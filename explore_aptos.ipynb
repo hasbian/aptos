{
 "cells": [
  {
   "cell_type": "markdown",
   "metadata": {},
   "source": [
    "# Data Prep\n",
    "\n",
    "Objective:\n",
    "- Filter out nan values\n",
    "- Get insight from the data\n",
    "- Extract features"
   ]
  },
  {
   "cell_type": "code",
   "execution_count": 1,
   "metadata": {},
   "outputs": [
    {
     "data": {
      "text/html": [
       "<div>\n",
       "<style scoped>\n",
       "    .dataframe tbody tr th:only-of-type {\n",
       "        vertical-align: middle;\n",
       "    }\n",
       "\n",
       "    .dataframe tbody tr th {\n",
       "        vertical-align: top;\n",
       "    }\n",
       "\n",
       "    .dataframe thead th {\n",
       "        text-align: right;\n",
       "    }\n",
       "</style>\n",
       "<table border=\"1\" class=\"dataframe\">\n",
       "  <thead>\n",
       "    <tr style=\"text-align: right;\">\n",
       "      <th></th>\n",
       "      <th>patient ID</th>\n",
       "      <th>gender</th>\n",
       "      <th>age</th>\n",
       "      <th>diagnosis</th>\n",
       "      <th>preVA</th>\n",
       "      <th>anti-VEGF</th>\n",
       "      <th>preCST</th>\n",
       "      <th>preIRF</th>\n",
       "      <th>preSRF</th>\n",
       "      <th>prePED</th>\n",
       "      <th>preHRF</th>\n",
       "      <th>VA</th>\n",
       "      <th>continue injection</th>\n",
       "      <th>CST</th>\n",
       "      <th>IRF</th>\n",
       "      <th>SRF</th>\n",
       "      <th>HRF</th>\n",
       "    </tr>\n",
       "  </thead>\n",
       "  <tbody>\n",
       "    <tr>\n",
       "      <th>2</th>\n",
       "      <td>0000-0673L</td>\n",
       "      <td>2</td>\n",
       "      <td>67</td>\n",
       "      <td>2</td>\n",
       "      <td>2.00</td>\n",
       "      <td>1</td>\n",
       "      <td>373.0</td>\n",
       "      <td>0.0</td>\n",
       "      <td>1.0</td>\n",
       "      <td>1.0</td>\n",
       "      <td>0.0</td>\n",
       "      <td>2.0</td>\n",
       "      <td>1.0</td>\n",
       "      <td>381.0</td>\n",
       "      <td>0.0</td>\n",
       "      <td>1.0</td>\n",
       "      <td>1.0</td>\n",
       "    </tr>\n",
       "    <tr>\n",
       "      <th>3</th>\n",
       "      <td>0000-1315L</td>\n",
       "      <td>2</td>\n",
       "      <td>76</td>\n",
       "      <td>6</td>\n",
       "      <td>0.30</td>\n",
       "      <td>0</td>\n",
       "      <td>227.0</td>\n",
       "      <td>0.0</td>\n",
       "      <td>0.0</td>\n",
       "      <td>0.0</td>\n",
       "      <td>0.0</td>\n",
       "      <td>0.4</td>\n",
       "      <td>0.0</td>\n",
       "      <td>237.0</td>\n",
       "      <td>0.0</td>\n",
       "      <td>0.0</td>\n",
       "      <td>0.0</td>\n",
       "    </tr>\n",
       "    <tr>\n",
       "      <th>4</th>\n",
       "      <td>0000-0656L</td>\n",
       "      <td>1</td>\n",
       "      <td>64</td>\n",
       "      <td>2</td>\n",
       "      <td>0.32</td>\n",
       "      <td>1</td>\n",
       "      <td>201.0</td>\n",
       "      <td>0.0</td>\n",
       "      <td>1.0</td>\n",
       "      <td>1.0</td>\n",
       "      <td>0.0</td>\n",
       "      <td>0.4</td>\n",
       "      <td>1.0</td>\n",
       "      <td>191.0</td>\n",
       "      <td>0.0</td>\n",
       "      <td>0.0</td>\n",
       "      <td>0.0</td>\n",
       "    </tr>\n",
       "    <tr>\n",
       "      <th>5</th>\n",
       "      <td>0000-0656R</td>\n",
       "      <td>1</td>\n",
       "      <td>64</td>\n",
       "      <td>2</td>\n",
       "      <td>0.30</td>\n",
       "      <td>0</td>\n",
       "      <td>282.0</td>\n",
       "      <td>0.0</td>\n",
       "      <td>0.0</td>\n",
       "      <td>0.0</td>\n",
       "      <td>0.0</td>\n",
       "      <td>0.1</td>\n",
       "      <td>0.0</td>\n",
       "      <td>202.0</td>\n",
       "      <td>0.0</td>\n",
       "      <td>0.0</td>\n",
       "      <td>0.0</td>\n",
       "    </tr>\n",
       "    <tr>\n",
       "      <th>6</th>\n",
       "      <td>0000-1792L</td>\n",
       "      <td>2</td>\n",
       "      <td>52</td>\n",
       "      <td>6</td>\n",
       "      <td>0.12</td>\n",
       "      <td>0</td>\n",
       "      <td>198.0</td>\n",
       "      <td>0.0</td>\n",
       "      <td>1.0</td>\n",
       "      <td>0.0</td>\n",
       "      <td>0.0</td>\n",
       "      <td>0.5</td>\n",
       "      <td>0.0</td>\n",
       "      <td>230.0</td>\n",
       "      <td>0.0</td>\n",
       "      <td>0.0</td>\n",
       "      <td>0.0</td>\n",
       "    </tr>\n",
       "  </tbody>\n",
       "</table>\n",
       "</div>"
      ],
      "text/plain": [
       "   patient ID  gender  age  diagnosis  preVA  anti-VEGF  preCST  preIRF  \\\n",
       "2  0000-0673L       2   67          2   2.00          1   373.0     0.0   \n",
       "3  0000-1315L       2   76          6   0.30          0   227.0     0.0   \n",
       "4  0000-0656L       1   64          2   0.32          1   201.0     0.0   \n",
       "5  0000-0656R       1   64          2   0.30          0   282.0     0.0   \n",
       "6  0000-1792L       2   52          6   0.12          0   198.0     0.0   \n",
       "\n",
       "   preSRF  prePED  preHRF   VA  continue injection    CST  IRF  SRF  HRF  \n",
       "2     1.0     1.0     0.0  2.0                 1.0  381.0  0.0  1.0  1.0  \n",
       "3     0.0     0.0     0.0  0.4                 0.0  237.0  0.0  0.0  0.0  \n",
       "4     1.0     1.0     0.0  0.4                 1.0  191.0  0.0  0.0  0.0  \n",
       "5     0.0     0.0     0.0  0.1                 0.0  202.0  0.0  0.0  0.0  \n",
       "6     1.0     0.0     0.0  0.5                 0.0  230.0  0.0  0.0  0.0  "
      ]
     },
     "execution_count": 1,
     "metadata": {},
     "output_type": "execute_result"
    }
   ],
   "source": [
    "import pandas as pd\n",
    "\n",
    "df = pd.read_csv('dataset/TrainingAnnotation.csv')\n",
    "df = df.dropna()\n",
    "\n",
    "# Remove unused data\n",
    "df = df.drop(columns=['PED'], axis=1)\n",
    "df.head(5)"
   ]
  },
  {
   "cell_type": "markdown",
   "metadata": {},
   "source": [
    "Check which output column has discrete value"
   ]
  },
  {
   "cell_type": "code",
   "execution_count": 30,
   "metadata": {},
   "outputs": [
    {
     "name": "stdout",
     "output_type": "stream",
     "text": [
      "VA [2.   0.4  0.1  0.5  0.44 0.   0.14 0.7  0.54 1.   0.9  0.22 0.84 0.76\n",
      " 0.12 0.24 0.64 0.98 0.74 0.8  1.6  0.6  0.16 0.2  0.42 1.34 0.32 1.02\n",
      " 1.04 0.3  1.12 0.72 0.02 0.34 0.94 1.06 1.3  0.04 1.51 0.36 0.52 0.18\n",
      " 2.3  0.66 1.55 0.56 0.92 1.22 0.82 1.62 0.62 1.5  3.   0.06 2.7  0.08\n",
      " 1.4  1.53 1.56 1.42 1.1  0.28 0.88 0.68 1.14 1.64 1.36 1.45 0.38 0.86\n",
      " 1.24 1.47 0.26 1.44 0.58 0.96 0.46 0.55 1.58 1.26 1.08 1.32] \n",
      "Total: 82\n",
      "continue injection [1 0]\n",
      "CST [ 381.  237.  191.  202.  230.  169.  201.  356.  346.  377.  304.  583.\n",
      "  389.  408.  873.  204.  200.  309.  357.  383.  363.  495.  253.  219.\n",
      "  235.  368.  232.  463.  241.  175.  249.  220.  428.  236.  213.  791.\n",
      "  217.  210.  348.  406.  221.  839.  415.  664.  665.  290.  238.  316.\n",
      "  319.  297.  513.  224.  364.  385.  208.  653.  256.  231.  446.  126.\n",
      "  186.  197.  338.  350.  462.  359.  286.  179.  268.  225.  285.  216.\n",
      "  227.  283.  533.  215.  161.  107.  366.  424.  166.  205.  566.  370.\n",
      "  155.  318.  695.  206.  411.  243.  151.  218.  244.  255.  468.  627.\n",
      "  884.  203.  287.  270.  254.  162.  106.  149.  278.  419.  195.  339.\n",
      "  261.  335.  234.  470.  194.  291.  183.  266.  134.  293.  351.  384.\n",
      "  326.  378.  431.  281.  279.  529.  269.  240.  487.  492.  259.  272.\n",
      "  211.  475.  480.  344.  536.  295.  420.  343.  214.  337.  116.  322.\n",
      "  767.  260.  718.  390.  252.  436.  402.  212.  421.  310.  262.  209.\n",
      "  275.  188.  110.  502.  246.  376.  152.  267.  133.  140.  355.  654.\n",
      "  248.  345.  226.  429.  273.  720.  498.  740.  451.  317.  353.  360.\n",
      "  472.  299.  820.  706.  635.  754.  145.  549.  296.  313.  491.  292.\n",
      "  449.  247.  509.  336.  608.  643.  239.  233.  547.  334.  563.  303.\n",
      " 1068.  192.  465.  460.  352.  729.  124.  163.  616.  207.  400.  568.\n",
      "  223.  172.  333.  394.  181.  288.  302.  486.  524.  519.  439.  185.\n",
      "  537.  649.  229.  182.  570.  481.  379.  369.  320.  154.  258.  787.\n",
      "  142.  311.  265.  312.  555.  430.  372.  198.  245. 1038.  371.   84.\n",
      "  305.  614.  222.  629.  478.  471.  308.  157.   88.  146.  325.  168.\n",
      "  503.  404.  315.  484.  184.  632.  410.  434.   89.  341.  137.  607.\n",
      "  392.  504.  679.  847.  405.  450.  271.  685.  437.  365.  675.  324.\n",
      "  196.  284.  280.  327.   95.   91.  680.  427.  190.  668.  532.  347.\n",
      "  757.  442.  330.  250.  516.  824.  289.  263.  399.  407.  328.  545.\n",
      "  300. 1150.  167.  551.  645.  374.  349.  469.  301.  917.  852.  423.\n",
      "  380.  490.  388.  362.  500.  306.  199.  485.  586.  567.  893.  564.\n",
      "  373.  178.  177.  276.  751.  682.  176.  440.  354. 1008.  448.  603.\n",
      " 1440.  274.  426.  187.  135.  413.   62.  158.  180.  539.  761.  340.\n",
      "  576.  409.  447.  768.  416. 1106.  508.  650.  582.  558.  522.  479.\n",
      "  651.  342.  403.  395.  464.  592.  615.  242.  691.  136.  417.  105.\n",
      "  441.  628.  412.  396.  692.  990.   86.  527.  599.  501.  111.  661.\n",
      " 1244.  606.  613.  193.  611.  432.  332.  438. 1243.  393.  474.  708.\n",
      "  375.  705.  282.  171.  894.  123.  264.  141.  228.  535.  382.  387.\n",
      "  251.  507.  589.  494.  321.  737.  173.  456.  594.  652.  358.  964.\n",
      "  433.  144.  984.  638. 1104.  307.  114.  511.  454.  602.  726.  561.\n",
      "  414.  588.  257.  467.  644.  667.  845.  401.  600.  528.  605.  386.\n",
      "  466.  626.  764.  277.  759.  763.  704.  656.  125.  526.  361.  856.\n",
      "  946.  724.  164.  189.  150.  620.  548.  717.  489.  523.  418.  367.\n",
      "  112.  153.  774.  574. 1123.  329.  298.  534. 1520.  838.  159.  723.\n",
      " 1116.  541.  760.   81.  648.  323.  612.  619.  966.  129.  556.  553.\n",
      "  115.  156.  593.  458.  703.  662.  170.  543.  830.  510.  139.  119.\n",
      "  294.  461.  397.  538.  697.  331.  517.  625.  482.  575.  391.  848.\n",
      "  983.  443.  499.  955.  165.  812.  422.  646.   79.   94.  742.  435.\n",
      "  960.  108.  577.  552.  425.  544.  621.  604.  455.   99.  671.  579.\n",
      "  477.  483.   31.  457.  148.  572.  598. 1049.  128.  578.  506.  584.\n",
      "  977.] \n",
      "Total: 565\n",
      "IRF [0. 1.]\n",
      "SRF [1. 0.]\n",
      "HRF [1. 0.]\n"
     ]
    }
   ],
   "source": [
    "print('VA', df.VA.unique(), f'\\nTotal: {len(df.VA.unique())}')\n",
    "print('continue injection', df['continue injection'].unique())\n",
    "print('CST', df.CST.unique(), f'\\nTotal: {len(df.CST.unique())}')\n",
    "print('IRF', df.IRF.unique())\n",
    "print('SRF', df.SRF.unique())\n",
    "print('HRF', df.HRF.unique())"
   ]
  },
  {
   "cell_type": "markdown",
   "metadata": {},
   "source": [
    "Based on the last cell, VA and CST have really wide value. We can consider to keep VA in our classification task because the range of value is not too big, it's 82. But we still need to look at the data distribution. If each VA value is distributed well (mean unbalanced data is very low), we can continue to use VA. If no, we have to drop VA column.\n",
    "The first main objective is to create a classifier. After classifier is considered as done, we can continue to create model which predict CST (or VA). "
   ]
  },
  {
   "cell_type": "code",
   "execution_count": 31,
   "metadata": {},
   "outputs": [],
   "source": [
    "df = df.drop(columns=['CST'], axis=1)"
   ]
  },
  {
   "cell_type": "markdown",
   "metadata": {},
   "source": [
    "See data distribution each label"
   ]
  },
  {
   "cell_type": "code",
   "execution_count": 32,
   "metadata": {},
   "outputs": [
    {
     "data": {
      "text/plain": [
       "<AxesSubplot:ylabel='Frequency'>"
      ]
     },
     "execution_count": 32,
     "metadata": {},
     "output_type": "execute_result"
    },
    {
     "data": {
      "image/png": "[encoded data removed]",
      "text/plain": [
       "<Figure size 432x288 with 1 Axes>"
      ]
     },
     "metadata": {
      "needs_background": "light"
     },
     "output_type": "display_data"
    }
   ],
   "source": [
    "df.VA.plot.hist()"
   ]
  },
  {
   "cell_type": "code",
   "execution_count": 3,
   "metadata": {},
   "outputs": [
    {
     "data": {
      "text/plain": [
       "<AxesSubplot:ylabel='continue injection'>"
      ]
     },
     "execution_count": 3,
     "metadata": {},
     "output_type": "execute_result"
    },
    {
     "data": {
      "image/png": "[encoded data removed]",
      "text/plain": [
       "<Figure size 432x288 with 1 Axes>"
      ]
     },
     "metadata": {},
     "output_type": "display_data"
    }
   ],
   "source": [
    "def autopct(pct): # only show the label when it's > 10%\n",
    "    return ('%.2f' % pct) if pct > 10 else ''\n",
    "\n",
    "df['continue injection'].value_counts().plot.pie(autopct=autopct)"
   ]
  },
  {
   "cell_type": "code",
   "execution_count": 42,
   "metadata": {},
   "outputs": [
    {
     "data": {
      "text/plain": [
       "<AxesSubplot:ylabel='IRF'>"
      ]
     },
     "execution_count": 42,
     "metadata": {},
     "output_type": "execute_result"
    },
    {
     "data": {
      "image/png": "[encoded data removed]",
      "text/plain": [
       "<Figure size 432x288 with 1 Axes>"
      ]
     },
     "metadata": {},
     "output_type": "display_data"
    }
   ],
   "source": [
    "def autopct(pct): # only show the label when it's > 10%\n",
    "    return ('%.2f' % pct) if pct > 10 else ''\n",
    "\n",
    "df.IRF.value_counts().plot.pie(autopct=autopct)"
   ]
  },
  {
   "cell_type": "code",
   "execution_count": 43,
   "metadata": {},
   "outputs": [
    {
     "data": {
      "text/plain": [
       "<AxesSubplot:ylabel='SRF'>"
      ]
     },
     "execution_count": 43,
     "metadata": {},
     "output_type": "execute_result"
    },
    {
     "data": {
      "image/png": "[encoded data removed]",
      "text/plain": [
       "<Figure size 432x288 with 1 Axes>"
      ]
     },
     "metadata": {},
     "output_type": "display_data"
    }
   ],
   "source": [
    "def autopct(pct): # only show the label when it's > 10%\n",
    "    return ('%.2f' % pct) if pct > 10 else ''\n",
    "\n",
    "df.SRF.value_counts().plot.pie(autopct=autopct)"
   ]
  },
  {
   "cell_type": "code",
   "execution_count": 44,
   "metadata": {},
   "outputs": [
    {
     "data": {
      "text/plain": [
       "<AxesSubplot:ylabel='HRF'>"
      ]
     },
     "execution_count": 44,
     "metadata": {},
     "output_type": "execute_result"
    },
    {
     "data": {
      "image/png": "[encoded data removed]",
      "text/plain": [
       "<Figure size 432x288 with 1 Axes>"
      ]
     },
     "metadata": {},
     "output_type": "display_data"
    }
   ],
   "source": [
    "def autopct(pct): # only show the label when it's > 10%\n",
    "    return ('%.2f' % pct) if pct > 10 else ''\n",
    "\n",
    "df.HRF.value_counts().plot.pie(autopct=autopct)"
   ]
  },
  {
   "cell_type": "markdown",
   "metadata": {},
   "source": [
    "The data on each label are unbalanced. Need to define which to remove, which to upsampling and downsampling."
   ]
  },
  {
   "cell_type": "markdown",
   "metadata": {},
   "source": [
    "in the submission sample, are to submit the prediction of patient's preCST, VA, continue injection, CST, IRF, SRF, and HRF values\n",
    "with only gender, age, diagnosis, preVA, and anti-VEGF as features."
   ]
  },
  {
   "cell_type": "code",
   "execution_count": null,
   "metadata": {},
   "outputs": [],
   "source": []
  }
 ],
 "metadata": {
  "interpreter": {
   "hash": "2d848266503462c66d248cac548936e94237e70876b774556fb362187768193f"
  },
  "kernelspec": {
   "display_name": "Python 3.9.7 64-bit ('aptos_env': conda)",
   "language": "python",
   "name": "python3"
  },
  "language_info": {
   "codemirror_mode": {
    "name": "ipython",
    "version": 3
   },
   "file_extension": ".py",
   "mimetype": "text/x-python",
   "name": "python",
   "nbconvert_exporter": "python",
   "pygments_lexer": "ipython3",
   "version": "3.9.7"
  },
  "orig_nbformat": 4
 },
 "nbformat": 4,
 "nbformat_minor": 2
}
