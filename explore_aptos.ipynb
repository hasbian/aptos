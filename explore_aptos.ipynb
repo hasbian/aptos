{
 "cells": [
  {
   "cell_type": "markdown",
   "metadata": {},
   "source": [
    "# Data Prep\n",
    "\n",
    "Objective:\n",
    "- Filter out nan values\n",
    "- Extract features\n",
    "- Get insight from the data"
   ]
  }
 ],
 "metadata": {
  "interpreter": {
   "hash": "2d848266503462c66d248cac548936e94237e70876b774556fb362187768193f"
  },
  "kernelspec": {
   "display_name": "Python 3.9.7 64-bit ('aptos_env': conda)",
   "language": "python",
   "name": "python3"
  },
  "language_info": {
   "codemirror_mode": {
    "name": "ipython",
    "version": 3
   },
   "file_extension": ".py",
   "mimetype": "text/x-python",
   "name": "python",
   "nbconvert_exporter": "python",
   "pygments_lexer": "ipython3",
   "version": "3.9.7"
  },
  "orig_nbformat": 4
 },
 "nbformat": 4,
 "nbformat_minor": 2
}
